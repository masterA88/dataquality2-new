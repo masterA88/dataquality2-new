{
 "cells": [
  {
   "cell_type": "code",
   "execution_count": 7,
   "metadata": {},
   "outputs": [
    {
     "name": "stdout",
     "output_type": "stream",
     "text": [
      "               AccountName                  Email              Phone  CIF\n",
      "0  Drs. Rafid Utama, S.Ked  winarnonajib@perum.id  +62-0163-973-8684   11\n",
      "1             Raisa Rajasa   januarartanto@pd.com  +62-0742-191-0589   12\n",
      "Dummy data generated account.csv\n"
     ]
    }
   ],
   "source": [
    "import pandas as pd\n",
    "from faker import Faker\n",
    "\n",
    "def generate_account_data(num_records):\n",
    "    fake = Faker(\"id_ID\")\n",
    "    data = []\n",
    "\n",
    "    for _ in range(num_records):\n",
    "        account = {\n",
    "            \"AccountName\": fake.name(),\n",
    "            \"Email\": fake.company_email(),\n",
    "            \"Phone\": fake.phone_number()\n",
    "        }\n",
    "        data.append(account)\n",
    "\n",
    "    return pd.DataFrame(data)\n",
    "\n",
    "# Generate 100 dummy accounts\n",
    "size=2\n",
    "account_data = generate_account_data(size)\n",
    "\n",
    "account_data[\"CIF\"]=[11,12]\n",
    "\n",
    "# Output the generated data to a CSV file\n",
    "# path=\"D:\\Salesforce\\dataquality\\sample\\\\\"+str(size)+\"_account.csv\"\n",
    "path='account.csv'\n",
    "account_data.to_csv(path, index=False)\n",
    "\n",
    "print(account_data)\n",
    "print(\"Dummy data generated\", path)\n"
   ]
  },
  {
   "cell_type": "code",
   "execution_count": 11,
   "metadata": {},
   "outputs": [
    {
     "name": "stdout",
     "output_type": "stream",
     "text": [
      "               Subject                                        Description  \\\n",
      "0  Mouth itself under.  How mind child move age beyond only. Hope acti...   \n",
      "\n",
      "    Status Priority Origin  DateOpened     CIF  \n",
      "0  Working      Low  Phone  2023-06-15  111112  \n",
      "Dummy data generated D:\\Salesforce\\dataquality\\sample\\1_case.csv\n"
     ]
    }
   ],
   "source": [
    "import pandas as pd\n",
    "from faker import Faker\n",
    "import random\n",
    "\n",
    "def generate_case_data(num_records):\n",
    "    fake = Faker()\n",
    "    data = []\n",
    "\n",
    "    for _ in range(num_records):\n",
    "        case = {\n",
    "            #\"CaseNumber\": fake.random_number(digits=8, fix_len=True),\n",
    "            \"Subject\": fake.sentence(nb_words=6),\n",
    "            \"Description\": fake.text(max_nb_chars=200),\n",
    "            \"Status\": random.choice(['New', 'Working', 'Escalated']),\n",
    "            \"Priority\": random.choice(['High', 'Medium', 'Low']),\n",
    "            \"Origin\": random.choice(['Web', 'Email', 'Phone']),\n",
    "            \"DateOpened\": fake.date_between(start_date='-1y', end_date='today')\n",
    "        }\n",
    "        data.append(case)\n",
    "\n",
    "    return pd.DataFrame(data)\n",
    "\n",
    "# Generate 100 dummy cases\n",
    "case_data = generate_case_data(1)\n",
    "\n",
    "# Output the generated data to a CSV file\n",
    "case_data[\"CIF\"]=\"111112\"\n",
    "path=\"D:\\Salesforce\\dataquality\\sample\\\\\"+str(size)+\"_case.csv\"\n",
    "case_data.to_csv(path, index=False)\n",
    "print(case_data)\n",
    "\n",
    "print(\"Dummy data generated\", path)\n"
   ]
  },
  {
   "cell_type": "code",
   "execution_count": 14,
   "metadata": {},
   "outputs": [],
   "source": [
    "import pandas as pd\n",
    "import numpy.random as npr\n",
    "\n",
    "# Generate dummy data for a simple Salesforce User object\n",
    "\n",
    "# Define the number of samples\n",
    "size = 1\n",
    "\n",
    "# Generate random user data\n",
    "data = {\n",
    "    'UserId': [f'U{i:04d}' for i in range(1, num_samples+1)],\n",
    "    'Username': [f'user{i}@example.com' for i in range(1, num_samples+1)],\n",
    "    'FirstName': [f'FirstName{i}' for i in range(1, num_samples+1)],\n",
    "    'LastName': [f'LastName{i}' for i in range(1, num_samples+1)],\n",
    "    'Profile': ['Standard User' if npr.rand() > 0.5 else 'System Administrator' for _ in range(num_samples)],\n",
    "    # 'Role': ['IT Manager' if npr.rand() > 0.5 else 'Support' for _ in range(num_samples)],\n",
    "    'Role': random.choice(['IT Manager', 'CEO', 'Marketing Manager']),\n",
    "    # 'IsActive': [True for _ in range(num_samples)]\n",
    "}\n",
    "\n",
    "# Create a DataFrame\n",
    "user_df = pd.DataFrame(data)\n",
    "\n",
    "user_df\n",
    "\n",
    "path=\"D:\\Salesforce\\dataquality\\sample\\\\\"+str(size)+\"_user.csv\"\n",
    "user_df.to_csv(path, index=False)\n"
   ]
  }
 ],
 "metadata": {
  "kernelspec": {
   "display_name": "Python 3",
   "language": "python",
   "name": "python3"
  },
  "language_info": {
   "codemirror_mode": {
    "name": "ipython",
    "version": 3
   },
   "file_extension": ".py",
   "mimetype": "text/x-python",
   "name": "python",
   "nbconvert_exporter": "python",
   "pygments_lexer": "ipython3",
   "version": "3.10.5"
  }
 },
 "nbformat": 4,
 "nbformat_minor": 2
}
